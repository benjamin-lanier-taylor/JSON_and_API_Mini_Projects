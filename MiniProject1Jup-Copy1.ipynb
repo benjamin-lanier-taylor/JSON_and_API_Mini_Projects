{
 "cells": [
  {
   "cell_type": "markdown",
   "metadata": {},
   "source": [
    "# Load and consider modules, JSONs, and DFs"
   ]
  },
  {
   "cell_type": "code",
   "execution_count": 1,
   "metadata": {},
   "outputs": [],
   "source": [
    "# import modules\n",
    "import json\n",
    "import pandas as pd\n",
    "from pandas.io.json import json_normalize"
   ]
  },
  {
   "cell_type": "code",
   "execution_count": 39,
   "metadata": {},
   "outputs": [],
   "source": [
    "# 1. Load JSON: df\n",
    "df_pd_read_json = pd.read_json('/Users/bentaylor/Documents/Springboard/Mini Projects/Mini Project 1/data/world_bank_projects.json')"
   ]
  },
  {
   "cell_type": "code",
   "execution_count": 3,
   "metadata": {},
   "outputs": [
    {
     "data": {
      "text/plain": [
       "\"for k in json_data.keys():\\n    print(k + ': ', json_data[k])\""
      ]
     },
     "execution_count": 3,
     "metadata": {},
     "output_type": "execute_result"
    }
   ],
   "source": [
    "# 2. Load Lesser JSON: json_data_less\n",
    "with open(\"/Users/bentaylor/Documents/Springboard/Mini Projects/Mini Project 1/data/world_bank_projects_less.json\") as json_file_less:\n",
    "    json_data_less = json.load(json_file_less)\n",
    "\n",
    "# Print each key-value pair in json_data\n",
    "'''for k in json_data.keys():\n",
    "    print(k + ': ', json_data[k])'''"
   ]
  },
  {
   "cell_type": "code",
   "execution_count": 4,
   "metadata": {},
   "outputs": [],
   "source": [
    "df_less = pd.read_json(\"/Users/bentaylor/Documents/Springboard/Mini Projects/Mini Project 1/data/world_bank_projects_less.json\")"
   ]
  },
  {
   "cell_type": "code",
   "execution_count": 5,
   "metadata": {},
   "outputs": [
    {
     "name": "stdout",
     "output_type": "stream",
     "text": [
      "Index(['_id', 'approvalfy', 'board_approval_month', 'boardapprovaldate',\n",
      "       'borrower', 'closingdate', 'country_namecode', 'countrycode',\n",
      "       'countryname', 'countryshortname', 'docty', 'envassesmentcategorycode',\n",
      "       'grantamt', 'ibrdcommamt', 'id', 'idacommamt', 'impagency',\n",
      "       'lendinginstr', 'lendinginstrtype', 'lendprojectcost',\n",
      "       'majorsector_percent', 'mjsector_namecode', 'mjtheme',\n",
      "       'mjtheme_namecode', 'mjthemecode', 'prodline', 'prodlinetext',\n",
      "       'productlinetype', 'project_abstract', 'project_name', 'projectdocs',\n",
      "       'projectfinancialtype', 'projectstatusdisplay', 'regionname', 'sector',\n",
      "       'sector1', 'sector2', 'sector3', 'sector4', 'sector_namecode',\n",
      "       'sectorcode', 'source', 'status', 'supplementprojectflg', 'theme1',\n",
      "       'theme_namecode', 'themecode', 'totalamt', 'totalcommamt', 'url'],\n",
      "      dtype='object')\n"
     ]
    }
   ],
   "source": [
    "print(df_less.columns)"
   ]
  },
  {
   "cell_type": "code",
   "execution_count": 6,
   "metadata": {},
   "outputs": [
    {
     "name": "stdout",
     "output_type": "stream",
     "text": [
      "Republic of Tunisia                        1\n",
      "Federal Democratic Republic of Ethiopia    1\n",
      "Name: countryname, dtype: int64\n"
     ]
    }
   ],
   "source": [
    "# Scratch Africa because it is not a country.\n",
    "print(df_less.countryname.value_counts().head(11))"
   ]
  },
  {
   "cell_type": "code",
   "execution_count": 7,
   "metadata": {},
   "outputs": [],
   "source": [
    "# Load JSON: json_data\n",
    "with open(\"/Users/bentaylor/Documents/Springboard/Mini Projects/Mini Project 1/data/world_bank_projects.json\") as json_file:\n",
    "    json_data = json.load(json_file)"
   ]
  },
  {
   "cell_type": "code",
   "execution_count": 8,
   "metadata": {},
   "outputs": [
    {
     "name": "stdout",
     "output_type": "stream",
     "text": [
      "<class 'list'>\n"
     ]
    }
   ],
   "source": [
    "print(type(json_data))"
   ]
  },
  {
   "cell_type": "code",
   "execution_count": 9,
   "metadata": {},
   "outputs": [],
   "source": [
    "df = pd.read_json(\"/Users/bentaylor/Documents/Springboard/Mini Projects/Mini Project 1/data/world_bank_projects.json\")"
   ]
  },
  {
   "cell_type": "code",
   "execution_count": 10,
   "metadata": {},
   "outputs": [
    {
     "name": "stdout",
     "output_type": "stream",
     "text": [
      "<class 'pandas.core.frame.DataFrame'>\n"
     ]
    }
   ],
   "source": [
    "print(type(df))"
   ]
  },
  {
   "cell_type": "code",
   "execution_count": 11,
   "metadata": {},
   "outputs": [
    {
     "name": "stdout",
     "output_type": "stream",
     "text": [
      "Index(['sector', 'supplementprojectflg', 'projectfinancialtype', 'prodline',\n",
      "       'mjtheme', 'idacommamt', 'impagency', 'project_name', 'mjthemecode',\n",
      "       'closingdate', 'totalcommamt', 'id', 'mjsector_namecode', 'docty',\n",
      "       'sector1', 'lendinginstr', 'countrycode', 'sector2', 'totalamt',\n",
      "       'mjtheme_namecode', 'boardapprovaldate', 'countryshortname', 'sector4',\n",
      "       'prodlinetext', 'productlinetype', 'regionname', 'status',\n",
      "       'country_namecode', 'envassesmentcategorycode', 'project_abstract',\n",
      "       'approvalfy', 'projectdocs', 'lendprojectcost', 'lendinginstrtype',\n",
      "       'theme1', 'grantamt', 'themecode', 'borrower', 'sectorcode', 'sector3',\n",
      "       'majorsector_percent', 'board_approval_month', 'theme_namecode',\n",
      "       'countryname', 'url', 'source', 'projectstatusdisplay', 'ibrdcommamt',\n",
      "       'sector_namecode', '_id'],\n",
      "      dtype='object')\n"
     ]
    }
   ],
   "source": [
    "print(df.columns)"
   ]
  },
  {
   "cell_type": "markdown",
   "metadata": {},
   "source": [
    "# Objective 1\n",
    "Find the 10 countries with most projects"
   ]
  },
  {
   "cell_type": "code",
   "execution_count": 12,
   "metadata": {},
   "outputs": [
    {
     "name": "stdout",
     "output_type": "stream",
     "text": [
      "Indonesia             19\n",
      "China                 19\n",
      "Vietnam               17\n",
      "India                 16\n",
      "Yemen, Republic of    13\n",
      "Morocco               12\n",
      "Nepal                 12\n",
      "Bangladesh            12\n",
      "Africa                11\n",
      "Mozambique            11\n",
      "Name: countryshortname, dtype: int64\n"
     ]
    }
   ],
   "source": [
    "# Africa is a continent, not a country, so it must be disregarded in order to complete Task 1.\n",
    "print(df['countryshortname'].value_counts().head(10))"
   ]
  },
  {
   "cell_type": "code",
   "execution_count": 13,
   "metadata": {},
   "outputs": [
    {
     "name": "stdout",
     "output_type": "stream",
     "text": [
      "China                 19\n",
      "Indonesia             19\n",
      "Vietnam               17\n",
      "India                 16\n",
      "Yemen, Republic of    13\n",
      "Morocco               12\n",
      "Nepal                 12\n",
      "Bangladesh            12\n",
      "Mozambique            11\n",
      "Pakistan               9\n",
      "Name: countryshortname, dtype: int64\n"
     ]
    }
   ],
   "source": [
    "# This output completes Task 1.\n",
    "df_countries = df[df.countryshortname != 'Africa']\n",
    "print(df_countries['countryshortname'].value_counts().head(10))"
   ]
  },
  {
   "cell_type": "markdown",
   "metadata": {},
   "source": [
    "# Objective 2\n",
    "Find the top 10 major project themes (using column 'mjtheme_namecode')"
   ]
  },
  {
   "cell_type": "markdown",
   "metadata": {},
   "source": [
    "# "
   ]
  },
  {
   "cell_type": "code",
   "execution_count": 23,
   "metadata": {
    "scrolled": true
   },
   "outputs": [
    {
     "name": "stdout",
     "output_type": "stream",
     "text": [
      "0      [{'code': '8', 'name': 'Human development'}, {...\n",
      "1      [{'code': '1', 'name': 'Economic management'},...\n",
      "2      [{'code': '5', 'name': 'Trade and integration'...\n",
      "3      [{'code': '7', 'name': 'Social dev/gender/incl...\n",
      "4      [{'code': '5', 'name': 'Trade and integration'...\n",
      "                             ...                        \n",
      "495    [{'code': '4', 'name': 'Financial and private ...\n",
      "496    [{'code': '8', 'name': 'Human development'}, {...\n",
      "497    [{'code': '10', 'name': 'Rural development'}, ...\n",
      "498    [{'code': '10', 'name': 'Rural development'}, ...\n",
      "499    [{'code': '9', 'name': 'Urban development'}, {...\n",
      "Name: mjtheme_namecode, Length: 500, dtype: object\n"
     ]
    }
   ],
   "source": [
    "print(df['mjtheme_namecode'])"
   ]
  },
  {
   "cell_type": "code",
   "execution_count": 15,
   "metadata": {},
   "outputs": [
    {
     "name": "stdout",
     "output_type": "stream",
     "text": [
      "[{'code': '8', 'name': 'Human development'}, {'code': '11', 'name': ''}]\n",
      "{'code': '8', 'name': 'Human development'}\n",
      "Human development\n"
     ]
    }
   ],
   "source": [
    "print(df['mjtheme_namecode'][0])\n",
    "print(df['mjtheme_namecode'][0][0])\n",
    "print(df['mjtheme_namecode'][0][0]['name'])"
   ]
  },
  {
   "cell_type": "code",
   "execution_count": 16,
   "metadata": {},
   "outputs": [],
   "source": [
    "# Lost-cause for loop\n",
    "# for x, y, name in df.mjtheme_namecode:\n",
    "#     dict_count_task2 = {}\n",
    "    "
   ]
  },
  {
   "cell_type": "code",
   "execution_count": 32,
   "metadata": {},
   "outputs": [
    {
     "name": "stdout",
     "output_type": "stream",
     "text": [
      "<pandas.core.groupby.generic.DataFrameGroupBy object at 0x12100e890>\n"
     ]
    }
   ],
   "source": [
    "# A Groupby doesn't work.\n",
    "# task2groupby = df.groupby('mjtheme_namecode', as_index = False)\n",
    "# print(task2groupby)\n",
    "\n",
    "# print(df.groupby(\"Product_ID\", as_index=False)['Purchase'].mean())"
   ]
  },
  {
   "cell_type": "code",
   "execution_count": 20,
   "metadata": {},
   "outputs": [
    {
     "data": {
      "text/plain": [
       "Environment and natural resources management    223\n",
       "Rural development                               202\n",
       "Human development                               197\n",
       "Public sector governance                        184\n",
       "Social protection and risk management           158\n",
       "Financial and private sector development        130\n",
       "                                                122\n",
       "Social dev/gender/inclusion                     119\n",
       "Trade and integration                            72\n",
       "Urban development                                47\n",
       "Economic management                              33\n",
       "Rule of law                                      12\n",
       "Name: name, dtype: int64"
      ]
     },
     "execution_count": 20,
     "metadata": {},
     "output_type": "execute_result"
    }
   ],
   "source": [
    "# Task 2 answer by name count. There are 11 names, and one name is an empty string.\n",
    "task2df = pd.json_normalize(json_data, 'mjtheme_namecode')\n",
    "task2df['name'].value_counts().head(11)"
   ]
  },
  {
   "cell_type": "code",
   "execution_count": 40,
   "metadata": {},
   "outputs": [
    {
     "data": {
      "text/plain": [
       "11    250\n",
       "10    216\n",
       "8     210\n",
       "2     199\n",
       "6     168\n",
       "4     146\n",
       "7     130\n",
       "5      77\n",
       "9      50\n",
       "1      38\n",
       "3      15\n",
       "Name: code, dtype: int64"
      ]
     },
     "execution_count": 40,
     "metadata": {},
     "output_type": "execute_result"
    }
   ],
   "source": [
    "# Task 2 answer by code count. The count differs from counting by names.\n",
    "task2df['code'].value_counts().head(11)"
   ]
  },
  {
   "cell_type": "markdown",
   "metadata": {},
   "source": [
    "# Objective 3\n",
    "In 2. above you will notice that some entries have only the code and the name is missing. Create a dataframe with the missing names filled in."
   ]
  },
  {
   "cell_type": "code",
   "execution_count": null,
   "metadata": {},
   "outputs": [],
   "source": [
    "print(df['mjtheme_namecode'][0])\n",
    "print(df['mjtheme_namecode'][0][0])\n",
    "print(df['mjtheme_namecode'][0][0]['name'])\n",
    "\n",
    "for item in df['mjtheme_namecode']:\n",
    "    item[x]['name'] \n",
    "    \n",
    "    # if item[x]['name'] == '':\n",
    "        # if item[x]['code'] == '8':\n",
    "            # item[x]['name'] = 'Human development'\n",
    "            \n",
    "    # But what would be a managble way to get the name other than a big for loop of\n",
    "    # if item[x]['code'] == '8', list8.append(item[x]['code'])\n",
    "    \n",
    "    # We talked about keeping it vectorized:\n",
    "    # count_dict = {}\n",
    "    # def function(df):\n",
    "    #   df.x.map()\n",
    "    \n",
    "    # Cheat-code: turn to NaN, use pd.fillna()"
   ]
  },
  {
   "cell_type": "code",
   "execution_count": 24,
   "metadata": {},
   "outputs": [
    {
     "name": "stdout",
     "output_type": "stream",
     "text": [
      "<pandas.core.groupby.generic.DataFrameGroupBy object at 0x120fdec10>\n"
     ]
    }
   ],
   "source": [
    "print(task2df.groupby('name', as_index = False)['code'])"
   ]
  },
  {
   "cell_type": "code",
   "execution_count": 36,
   "metadata": {},
   "outputs": [
    {
     "name": "stdout",
     "output_type": "stream",
     "text": [
      "0    [{'code': '8', 'name': 'Human development'}, {...\n",
      "Name: mjtheme_namecode, dtype: object\n"
     ]
    }
   ],
   "source": [
    "# print(df['mjtheme_namecode'][0:5][0:1])\n",
    "#.values, .keys, .items(), "
   ]
  },
  {
   "cell_type": "code",
   "execution_count": null,
   "metadata": {},
   "outputs": [],
   "source": []
  }
 ],
 "metadata": {
  "kernelspec": {
   "display_name": "Python 3",
   "language": "python",
   "name": "python3"
  },
  "language_info": {
   "codemirror_mode": {
    "name": "ipython",
    "version": 3
   },
   "file_extension": ".py",
   "mimetype": "text/x-python",
   "name": "python",
   "nbconvert_exporter": "python",
   "pygments_lexer": "ipython3",
   "version": "3.7.7"
  }
 },
 "nbformat": 4,
 "nbformat_minor": 4
}
