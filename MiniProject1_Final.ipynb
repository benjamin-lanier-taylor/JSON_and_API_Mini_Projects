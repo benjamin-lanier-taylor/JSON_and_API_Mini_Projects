{
 "cells": [
  {
   "cell_type": "markdown",
   "metadata": {},
   "source": [
    "# Load and consider modules, JSONs, and DFs"
   ]
  },
  {
   "cell_type": "code",
   "execution_count": 1,
   "metadata": {},
   "outputs": [],
   "source": [
    "# import modules\n",
    "import json\n",
    "import pandas as pd\n",
    "from pandas.io.json import json_normalize"
   ]
  },
  {
   "cell_type": "code",
   "execution_count": 2,
   "metadata": {},
   "outputs": [],
   "source": [
    "# 1. Load JSON: df\n",
    "df_pd_read_json = pd.read_json('/Users/bentaylor/Documents/Springboard/Mini Projects/Mini Project 1/data/world_bank_projects.json')"
   ]
  },
  {
   "cell_type": "code",
   "execution_count": 3,
   "metadata": {},
   "outputs": [],
   "source": [
    "# 2.2. Load JSON: json_data\n",
    "with open(\"/Users/bentaylor/Documents/Springboard/Mini Projects/Mini Project 1/data/world_bank_projects.json\") as json_file:\n",
    "    json_data = json.load(json_file)"
   ]
  },
  {
   "cell_type": "code",
   "execution_count": 4,
   "metadata": {},
   "outputs": [
    {
     "name": "stdout",
     "output_type": "stream",
     "text": [
      "<class 'list'>\n"
     ]
    }
   ],
   "source": [
    "print(type(json_data))"
   ]
  },
  {
   "cell_type": "code",
   "execution_count": 5,
   "metadata": {},
   "outputs": [],
   "source": [
    "df = pd.read_json(\"/Users/bentaylor/Documents/Springboard/Mini Projects/Mini Project 1/data/world_bank_projects.json\")"
   ]
  },
  {
   "cell_type": "code",
   "execution_count": 6,
   "metadata": {},
   "outputs": [
    {
     "name": "stdout",
     "output_type": "stream",
     "text": [
      "<class 'pandas.core.frame.DataFrame'>\n"
     ]
    }
   ],
   "source": [
    "print(type(df))"
   ]
  },
  {
   "cell_type": "code",
   "execution_count": 7,
   "metadata": {},
   "outputs": [
    {
     "name": "stdout",
     "output_type": "stream",
     "text": [
      "Index(['sector', 'supplementprojectflg', 'projectfinancialtype', 'prodline',\n",
      "       'mjtheme', 'idacommamt', 'impagency', 'project_name', 'mjthemecode',\n",
      "       'closingdate', 'totalcommamt', 'id', 'mjsector_namecode', 'docty',\n",
      "       'sector1', 'lendinginstr', 'countrycode', 'sector2', 'totalamt',\n",
      "       'mjtheme_namecode', 'boardapprovaldate', 'countryshortname', 'sector4',\n",
      "       'prodlinetext', 'productlinetype', 'regionname', 'status',\n",
      "       'country_namecode', 'envassesmentcategorycode', 'project_abstract',\n",
      "       'approvalfy', 'projectdocs', 'lendprojectcost', 'lendinginstrtype',\n",
      "       'theme1', 'grantamt', 'themecode', 'borrower', 'sectorcode', 'sector3',\n",
      "       'majorsector_percent', 'board_approval_month', 'theme_namecode',\n",
      "       'countryname', 'url', 'source', 'projectstatusdisplay', 'ibrdcommamt',\n",
      "       'sector_namecode', '_id'],\n",
      "      dtype='object')\n"
     ]
    }
   ],
   "source": [
    "print(df.columns)"
   ]
  },
  {
   "cell_type": "markdown",
   "metadata": {},
   "source": [
    "# Objective 1\n",
    "Find the 10 countries with most projects"
   ]
  },
  {
   "cell_type": "code",
   "execution_count": 8,
   "metadata": {},
   "outputs": [
    {
     "name": "stdout",
     "output_type": "stream",
     "text": [
      "China                 19\n",
      "Indonesia             19\n",
      "Vietnam               17\n",
      "India                 16\n",
      "Yemen, Republic of    13\n",
      "Morocco               12\n",
      "Bangladesh            12\n",
      "Nepal                 12\n",
      "Africa                11\n",
      "Mozambique            11\n",
      "Name: countryshortname, dtype: int64\n"
     ]
    }
   ],
   "source": [
    "# Africa is not a country, so it must be disregarded in order to complete objective 1.\n",
    "print(df['countryshortname'].value_counts().head(10))"
   ]
  },
  {
   "cell_type": "code",
   "execution_count": 9,
   "metadata": {},
   "outputs": [
    {
     "name": "stdout",
     "output_type": "stream",
     "text": [
      "China                 19\n",
      "Indonesia             19\n",
      "Vietnam               17\n",
      "India                 16\n",
      "Yemen, Republic of    13\n",
      "Nepal                 12\n",
      "Bangladesh            12\n",
      "Morocco               12\n",
      "Mozambique            11\n",
      "Brazil                 9\n",
      "Name: countryshortname, dtype: int64\n"
     ]
    }
   ],
   "source": [
    "# This output completes objective 1.\n",
    "df_countries = df[df.countryshortname != 'Africa']\n",
    "print(df_countries['countryshortname'].value_counts().head(10))"
   ]
  },
  {
   "cell_type": "markdown",
   "metadata": {},
   "source": [
    "# Objective 2\n",
    "Find the top 10 major project themes (using column 'mjtheme_namecode')"
   ]
  },
  {
   "cell_type": "markdown",
   "metadata": {},
   "source": [
    "# "
   ]
  },
  {
   "cell_type": "code",
   "execution_count": 10,
   "metadata": {},
   "outputs": [
    {
     "name": "stdout",
     "output_type": "stream",
     "text": [
      "0    P129828\n",
      "1    P144674\n",
      "Name: id, dtype: object\n"
     ]
    }
   ],
   "source": [
    "print(df.id.head(2))"
   ]
  },
  {
   "cell_type": "code",
   "execution_count": 11,
   "metadata": {},
   "outputs": [
    {
     "name": "stdout",
     "output_type": "stream",
     "text": [
      "0    [{'code': '8', 'name': 'Human development'}, {...\n",
      "Name: mjtheme_namecode, dtype: object\n",
      "[{'code': '8', 'name': 'Human development'}, {'code': '11', 'name': ''}]\n",
      "{'code': '8', 'name': 'Human development'}\n",
      "Human development\n"
     ]
    }
   ],
   "source": [
    "# Explore df structure: list of dictionaries\n",
    "print(df['mjtheme_namecode'].head(1))\n",
    "print(df['mjtheme_namecode'][0])\n",
    "print(df['mjtheme_namecode'][0][0])\n",
    "print(df['mjtheme_namecode'][0][0]['name'])"
   ]
  },
  {
   "cell_type": "code",
   "execution_count": 12,
   "metadata": {},
   "outputs": [
    {
     "data": {
      "text/plain": [
       "Environment and natural resources management    223\n",
       "Rural development                               202\n",
       "Human development                               197\n",
       "Public sector governance                        184\n",
       "Social protection and risk management           158\n",
       "Financial and private sector development        130\n",
       "                                                122\n",
       "Social dev/gender/inclusion                     119\n",
       "Trade and integration                            72\n",
       "Urban development                                47\n",
       "Economic management                              33\n",
       "Name: name, dtype: int64"
      ]
     },
     "execution_count": 12,
     "metadata": {},
     "output_type": "execute_result"
    }
   ],
   "source": [
    "# Task 2 answer by name count. There are 11 names, and one name is an empty string.\n",
    "task2df = pd.json_normalize(json_data, 'mjtheme_namecode')\n",
    "task2df['name'].value_counts().head(11)"
   ]
  },
  {
   "cell_type": "code",
   "execution_count": 13,
   "metadata": {},
   "outputs": [
    {
     "data": {
      "text/plain": [
       "11    250\n",
       "10    216\n",
       "8     210\n",
       "2     199\n",
       "6     168\n",
       "4     146\n",
       "7     130\n",
       "5      77\n",
       "9      50\n",
       "1      38\n",
       "3      15\n",
       "Name: code, dtype: int64"
      ]
     },
     "execution_count": 13,
     "metadata": {},
     "output_type": "execute_result"
    }
   ],
   "source": [
    "# Task 2 answer by code count. The count differs from counting by names.\n",
    "task2df['code'].value_counts().head(11)"
   ]
  },
  {
   "cell_type": "markdown",
   "metadata": {},
   "source": [
    "# Objective 3\n",
    "In 2. above you will notice that some entries have only the code and the name is missing. Create a dataframe with the missing names filled in."
   ]
  },
  {
   "cell_type": "code",
   "execution_count": 14,
   "metadata": {},
   "outputs": [
    {
     "name": "stdout",
     "output_type": "stream",
     "text": [
      "     code                                      name       id\n",
      "0       8                         Human development  P129828\n",
      "1      11                                            P129828\n",
      "2       1                       Economic management  P144674\n",
      "3       6     Social protection and risk management  P144674\n",
      "4       5                     Trade and integration  P145310\n",
      "...   ...                                       ...      ...\n",
      "1494   10                         Rural development  P117243\n",
      "1495    9                         Urban development  P126321\n",
      "1496    8                         Human development  P126321\n",
      "1497    5                     Trade and integration  P126321\n",
      "1498    4  Financial and private sector development  P126321\n",
      "\n",
      "[1499 rows x 3 columns]\n"
     ]
    }
   ],
   "source": [
    "df_themes = pd.json_normalize(json_data, 'mjtheme_namecode', ['id'])\n",
    "print(df_themes)"
   ]
  },
  {
   "cell_type": "code",
   "execution_count": 15,
   "metadata": {},
   "outputs": [
    {
     "name": "stdout",
     "output_type": "stream",
     "text": [
      "<class 'pandas.core.series.Series'>\n",
      "id\n",
      "P121152    5\n",
      "P129652    4\n",
      "P130749    4\n",
      "P128284    4\n",
      "P128573    4\n",
      "Name: code, dtype: int64\n",
      "id       name                                        \n",
      "P075941  Financial and private sector development        1\n",
      "         Rural development                               1\n",
      "         Social dev/gender/inclusion                     1\n",
      "         Trade and integration                           1\n",
      "P085621  Environment and natural resources management    3\n",
      "         Social dev/gender/inclusion                     1\n",
      "P086592  Rural development                               3\n",
      "         Environment and natural resources management    1\n",
      "P094183  Trade and integration                           2\n",
      "         Rural development                               1\n",
      "Name: name, dtype: int64\n"
     ]
    }
   ],
   "source": [
    "## One id can contain many codes.\n",
    "\n",
    "df_themes_grpby = df_themes.groupby('id').code.nunique().sort_values(ascending=False).head(5)\n",
    "print(type(df_themes_grpby)) # .nunique() signifies two functions, wherein one is performed\n",
    "    # on the data type DataFrame while the other on Series. This is Series.nunique().\n",
    "print(df_themes_grpby)\n",
    "\n",
    "df_themes_dbl_index_grpby = df_themes.groupby('id').name.value_counts().head(10)\n",
    "print(df_themes_dbl_index_grpby)"
   ]
  },
  {
   "cell_type": "code",
   "execution_count": 16,
   "metadata": {},
   "outputs": [
    {
     "name": "stdout",
     "output_type": "stream",
     "text": [
      "Environment and natural resources management    223\n",
      "Rural development                               202\n",
      "Human development                               197\n",
      "Public sector governance                        184\n",
      "Social protection and risk management           158\n",
      "Financial and private sector development        130\n",
      "                                                122\n",
      "Social dev/gender/inclusion                     119\n",
      "Trade and integration                            72\n",
      "Urban development                                47\n",
      "Name: name, dtype: int64\n"
     ]
    }
   ],
   "source": [
    "print(df_themes.name.value_counts().head(10))"
   ]
  },
  {
   "cell_type": "code",
   "execution_count": 17,
   "metadata": {},
   "outputs": [
    {
     "name": "stdout",
     "output_type": "stream",
     "text": [
      "  code                                   name       id\n",
      "0    8                      Human development  P129828\n",
      "1   11                                         P129828\n",
      "2    1                    Economic management  P144674\n",
      "3    6  Social protection and risk management  P144674\n"
     ]
    }
   ],
   "source": [
    "print(df_themes.head(4))"
   ]
  },
  {
   "cell_type": "code",
   "execution_count": 18,
   "metadata": {},
   "outputs": [],
   "source": [
    "keys = df_themes.drop('id', axis=1)[df_themes.name != ''].drop_duplicates().code.to_numpy()\n",
    "values = df_themes.drop('id', axis=1)[df_themes.name != ''].drop_duplicates().name.to_numpy()\n",
    "\n",
    "themes_dict = dict(zip(keys, values))\n",
    "\n",
    "# In making keys, did [df_themes.name != ''].drop_duplicates() drop all but one row where name = ''?\n",
    "# How is that helpful?"
   ]
  },
  {
   "cell_type": "code",
   "execution_count": 19,
   "metadata": {},
   "outputs": [
    {
     "name": "stdout",
     "output_type": "stream",
     "text": [
      "{'8': 'Human development', '1': 'Economic management', '6': 'Social protection and risk management', '5': 'Trade and integration', '2': 'Public sector governance', '11': 'Environment and natural resources management', '7': 'Social dev/gender/inclusion', '4': 'Financial and private sector development', '10': 'Rural development', '9': 'Urban development', '3': 'Rule of law'}\n"
     ]
    }
   ],
   "source": [
    "print(themes_dict)"
   ]
  },
  {
   "cell_type": "code",
   "execution_count": 20,
   "metadata": {},
   "outputs": [
    {
     "name": "stdout",
     "output_type": "stream",
     "text": [
      "{'8': 'Human development', '11': 'Environment and natural resources management', '1': '', '6': '', '5': 'Trade and integration', '2': 'Public sector governance', '7': 'Social dev/gender/inclusion', '4': 'Financial and private sector development', '10': 'Rural development', '9': 'Urban development', '3': 'Rule of law'}\n"
     ]
    }
   ],
   "source": [
    "keys = df_themes.drop('id', axis=1).code.to_numpy()\n",
    "values = df_themes.drop('id', axis=1).name.to_numpy()\n",
    "\n",
    "themes_dict2 = dict(zip(keys, values))\n",
    "print(themes_dict2)"
   ]
  },
  {
   "cell_type": "code",
   "execution_count": 21,
   "metadata": {},
   "outputs": [],
   "source": [
    "def fixBlanks(row):\n",
    "    if row['name'] == '':\n",
    "        code = themes_dict.get(row['code'])\n",
    "        return code\n",
    "    else:\n",
    "        return row['name']"
   ]
  },
  {
   "cell_type": "code",
   "execution_count": 22,
   "metadata": {},
   "outputs": [
    {
     "name": "stdout",
     "output_type": "stream",
     "text": [
      "  code               name       id\n",
      "0    8  Human development  P129828\n",
      "1   11                     P129828\n"
     ]
    }
   ],
   "source": [
    "print(df_themes.head(2))\n",
    "\n",
    "df_themes.name = df_themes.apply(fixBlanks,axis=1)"
   ]
  },
  {
   "cell_type": "code",
   "execution_count": 23,
   "metadata": {},
   "outputs": [
    {
     "data": {
      "text/plain": [
       "Environment and natural resources management    250\n",
       "Rural development                               216\n",
       "Human development                               210\n",
       "Public sector governance                        199\n",
       "Social protection and risk management           168\n",
       "Financial and private sector development        146\n",
       "Social dev/gender/inclusion                     130\n",
       "Trade and integration                            77\n",
       "Urban development                                50\n",
       "Economic management                              38\n",
       "Rule of law                                      15\n",
       "Name: name, dtype: int64"
      ]
     },
     "execution_count": 23,
     "metadata": {},
     "output_type": "execute_result"
    }
   ],
   "source": [
    "df_themes.name.value_counts()"
   ]
  }
 ],
 "metadata": {
  "kernelspec": {
   "display_name": "Python 3",
   "language": "python",
   "name": "python3"
  },
  "language_info": {
   "codemirror_mode": {
    "name": "ipython",
    "version": 3
   },
   "file_extension": ".py",
   "mimetype": "text/x-python",
   "name": "python",
   "nbconvert_exporter": "python",
   "pygments_lexer": "ipython3",
   "version": "3.7.7"
  }
 },
 "nbformat": 4,
 "nbformat_minor": 4
}
