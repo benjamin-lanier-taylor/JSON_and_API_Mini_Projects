{
 "cells": [
  {
   "cell_type": "markdown",
   "metadata": {},
   "source": [
    "This exercise will require you to pull some data from the Qunadl API. Qaundl is currently the most widely used aggregator of financial market data."
   ]
  },
  {
   "cell_type": "markdown",
   "metadata": {},
   "source": [
    "As a first step, you will need to register a free account on the http://www.quandl.com website."
   ]
  },
  {
   "cell_type": "markdown",
   "metadata": {},
   "source": [
    "After you register, you will be provided with a unique API key, that you should store:"
   ]
  },
  {
   "cell_type": "code",
   "execution_count": 1,
   "metadata": {},
   "outputs": [],
   "source": [
    "# Store the API key as a string - according to PEP8, constants are always named in all upper case\n",
    "API_KEY = '...'"
   ]
  },
  {
   "cell_type": "markdown",
   "metadata": {},
   "source": [
    "Qaundl has a large number of data sources, but, unfortunately, most of them require a Premium subscription. Still, there are also a good number of free datasets."
   ]
  },
  {
   "cell_type": "markdown",
   "metadata": {},
   "source": [
    "For this mini project, we will focus on equities data from the Frankfurt Stock Exhange (FSE), which is available for free. We'll try and analyze the stock prices of a company called Carl Zeiss Meditec, which manufactures tools for eye examinations, as well as medical lasers for laser eye surgery: https://www.zeiss.com/meditec/int/home.html. The company is listed under the stock ticker AFX_X."
   ]
  },
  {
   "cell_type": "markdown",
   "metadata": {},
   "source": [
    "You can find the detailed Quandl API instructions here: https://docs.quandl.com/docs/time-series"
   ]
  },
  {
   "cell_type": "markdown",
   "metadata": {},
   "source": [
    "While there is a dedicated Python package for connecting to the Quandl API, we would prefer that you use the *requests* package, which can be easily downloaded using *pip* or *conda*. You can find the documentation for the package here: http://docs.python-requests.org/en/master/ "
   ]
  },
  {
   "cell_type": "markdown",
   "metadata": {},
   "source": [
    "Finally, apart from the *requests* package, you are encouraged to not use any third party Python packages, such as *pandas*, and instead focus on what's available in the Python Standard Library (the *collections* module might come in handy: https://pymotw.com/3/collections/ ).\n",
    "Also, since you won't have access to DataFrames, you are encouraged to us Python's native data structures - preferably dictionaries, though some questions can also be answered using lists.\n",
    "You can read more on these data structures here: https://docs.python.org/3/tutorial/datastructures.html"
   ]
  },
  {
   "cell_type": "markdown",
   "metadata": {},
   "source": [
    "Keep in mind that the JSON responses you will be getting from the API map almost one-to-one to Python's dictionaries. Unfortunately, they can be very nested, so make sure you read up on indexing dictionaries in the documentation provided above."
   ]
  },
  {
   "cell_type": "code",
   "execution_count": 2,
   "metadata": {},
   "outputs": [],
   "source": [
    "# First, import the relevant modules\n",
    "\n",
    "# for terminal: pip install requests\n",
    "import requests\n",
    "import json\n",
    "from pandas.io.json import json_normalize\n",
    "import pandas as pd"
   ]
  },
  {
   "cell_type": "code",
   "execution_count": 3,
   "metadata": {},
   "outputs": [
    {
     "name": "stdout",
     "output_type": "stream",
     "text": [
      "<class 'dict'>\n",
      "5116\n",
      "dict_keys(['dataset'])\n",
      "dict_keys(['id', 'dataset_code', 'database_code', 'name', 'description', 'refreshed_at', 'newest_available_date', 'oldest_available_date', 'column_names', 'frequency', 'type', 'premium', 'limit', 'transform', 'column_index', 'start_date', 'end_date', 'data', 'collapse', 'order', 'database_id'])\n",
      "<class 'list'>\n",
      "['Date', 'Open', 'High', 'Low', 'Close', 'Change', 'Traded Volume', 'Turnover', 'Last Price of the Day', 'Daily Traded Units', 'Daily Turnover']\n",
      "['2017-12-29', 51.76, 51.94, 51.45, 51.76, None, 34640.0, 1792304.0, None, None, None]\n"
     ]
    }
   ],
   "source": [
    "# Now, call the Quandl API and pull out a small sample of the data (only one day) to get a glimpse\n",
    "# into the JSON structure that will be returned\n",
    "\n",
    "api_key = '...'\n",
    "url = 'https://www.quandl.com/api/v3/datasets/FSE/AFX_X.json?api_key=Qfxyn8EHKyfyUMB3AC9h'\n",
    "url2017 = 'https://www.quandl.com/api/v3/datasets/FSE/AFX_X.json?start_date=2017-01-01&end_date=2017-12-31&api_key=...'\n",
    "\n",
    "res = requests.get(url)\n",
    "res2017 = requests.get(url2017)\n",
    "json = res.json()\n",
    "json2017 = res2017.json()\n",
    "\n",
    "print(type(json2017))\n",
    "print(len(json['dataset']['data']))\n",
    "print(json2017.keys())\n",
    "print(json2017['dataset'].keys())\n",
    "print(type(json2017['dataset']['column_names']))\n",
    "print(json2017['dataset']['column_names'])\n",
    "print(json2017['dataset']['data'][0])"
   ]
  },
  {
   "cell_type": "code",
   "execution_count": 4,
   "metadata": {},
   "outputs": [],
   "source": [
    "# Inspect the JSON structure of the object you created, and take note of how nested it is,\n",
    "# as well as the overall structure\n",
    "# Completed above."
   ]
  },
  {
   "cell_type": "markdown",
   "metadata": {},
   "source": [
    "These are your tasks for this mini project:\n",
    "\n",
    "1. Collect data from the Franfurt Stock Exchange, for the ticker AFX_X, for the whole year 2017 (keep in mind that the date format is YYYY-MM-DD).\n",
    "2. Convert the returned JSON object into a Python dictionary.\n",
    "3. Calculate what the highest and lowest opening prices were for the stock in this period.\n",
    "4. What was the largest change in any one day (based on High and Low price)?\n",
    "5. What was the largest change between any two days (based on Closing Price)?\n",
    "6. What was the average daily trading volume during this year?\n",
    "7. (Optional) What was the median trading volume during this year. (Note: you may need to implement your own function for calculating the median.)"
   ]
  },
  {
   "cell_type": "code",
   "execution_count": 5,
   "metadata": {},
   "outputs": [],
   "source": [
    "# Task 1\n",
    "data_2017 = json2017['dataset']['data']"
   ]
  },
  {
   "cell_type": "code",
   "execution_count": 6,
   "metadata": {},
   "outputs": [],
   "source": [
    "# Task 2\n",
    "data_dict = dict(json)\n",
    "# print(data_dict)"
   ]
  },
  {
   "cell_type": "code",
   "execution_count": 7,
   "metadata": {},
   "outputs": [
    {
     "name": "stdout",
     "output_type": "stream",
     "text": [
      "<class 'list'>\n",
      "['Date', 'Open', 'High', 'Low', 'Close', 'Change', 'Traded Volume', 'Turnover', 'Last Price of the Day', 'Daily Traded Units', 'Daily Turnover']\n",
      "['2020-04-29', 90.0, 91.0, 87.85, 90.95, None, 143888.0, 12901979.9, None, None, None]\n"
     ]
    }
   ],
   "source": [
    "# Task 3\n",
    "print(type(json['dataset']['column_names']))\n",
    "print(json['dataset']['column_names'])\n",
    "print(json['dataset']['data'][0])"
   ]
  },
  {
   "cell_type": "code",
   "execution_count": 8,
   "metadata": {},
   "outputs": [
    {
     "name": "stdout",
     "output_type": "stream",
     "text": [
      "Maximum opening price: 121.4\n",
      "Minimum opening price: 4.2\n"
     ]
    }
   ],
   "source": [
    "rows_as_lists = json['dataset']['data']\n",
    "opening_prices = []\n",
    "for list in rows_as_lists:\n",
    "    if list[1] is not None:\n",
    "        opening_prices.append(list[1])\n",
    "print('Maximum opening price:', max(opening_prices))\n",
    "print('Minimum opening price:', min(opening_prices))"
   ]
  },
  {
   "cell_type": "code",
   "execution_count": 9,
   "metadata": {},
   "outputs": [
    {
     "name": "stdout",
     "output_type": "stream",
     "text": [
      "The largest change in any one day is 14.099999999999994\n"
     ]
    }
   ],
   "source": [
    "# Task 4\n",
    "# 1. for loop with one list for High, another for Low; Make High: Low dictionary\n",
    "# 2. for loop that subtracts high from low within each list and appends the difference to a list\n",
    "\n",
    "differences = []\n",
    "for list in rows_as_lists:\n",
    "    if list[2] and list[3] is not None:\n",
    "        difference = (list[2] - list[3])\n",
    "        differences.append(difference)\n",
    "print('The largest change in any one day is', max(differences))"
   ]
  },
  {
   "cell_type": "code",
   "execution_count": 10,
   "metadata": {},
   "outputs": [
    {
     "name": "stdout",
     "output_type": "stream",
     "text": [
      "11.200000000000003\n"
     ]
    }
   ],
   "source": [
    "# Task 5\n",
    "\n",
    "previous_price = rows_as_lists[0][4]\n",
    "change = 0\n",
    "\n",
    "for eachDay in rows_as_lists:\n",
    "    try :\n",
    "        \n",
    "        if abs(eachDay[4]-previous_price) > change:\n",
    "            change = abs(eachDay[4]-previous_price)\n",
    "            \n",
    "        previous_price = eachDay[4]\n",
    "            \n",
    "    except TypeError:\n",
    "        pass  \n",
    "    \n",
    "print(change)"
   ]
  },
  {
   "cell_type": "code",
   "execution_count": 11,
   "metadata": {},
   "outputs": [
    {
     "name": "stdout",
     "output_type": "stream",
     "text": [
      "The average trading daily volume is 56796.60118343195\n"
     ]
    }
   ],
   "source": [
    "# Task 6\n",
    "# index 6 is Traded Volume\n",
    "volumes = []\n",
    "for list in rows_as_lists:\n",
    "    if list[6] is not None:\n",
    "        volumes.append(list[6])\n",
    "average_volume = sum(volumes) / len(volumes)\n",
    "print('The average trading daily volume is', str(average_volume))"
   ]
  },
  {
   "cell_type": "code",
   "execution_count": 12,
   "metadata": {},
   "outputs": [
    {
     "name": "stdout",
     "output_type": "stream",
     "text": [
      "The median trading daily volume is 41314.0\n"
     ]
    }
   ],
   "source": [
    "# Task 7\n",
    "rows_as_lists2017 = json2017['dataset']['data']\n",
    "\n",
    "volumes2017 = []\n",
    "for list in rows_as_lists:\n",
    "    if list[6] is not None:\n",
    "        volumes2017.append(list[6])\n",
    "\n",
    "n = len(volumes2017) \n",
    "volumes2017.sort() \n",
    "  \n",
    "if n % 2 == 0: \n",
    "    median1 = volumes2017[n//2] \n",
    "    median2 = volumes2017[n//2 - 1] \n",
    "    median = (median1 + median2)/2\n",
    "else: \n",
    "    median = volumes2017[n//2] \n",
    "print('The median trading daily volume is', str(median))"
   ]
  }
 ],
 "metadata": {
  "kernelspec": {
   "display_name": "Python 3",
   "language": "python",
   "name": "python3"
  },
  "language_info": {
   "codemirror_mode": {
    "name": "ipython",
    "version": 3
   },
   "file_extension": ".py",
   "mimetype": "text/x-python",
   "name": "python",
   "nbconvert_exporter": "python",
   "pygments_lexer": "ipython3",
   "version": "3.7.7"
  }
 },
 "nbformat": 4,
 "nbformat_minor": 2
}
